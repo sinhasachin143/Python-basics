{
  "nbformat": 4,
  "nbformat_minor": 0,
  "metadata": {
    "colab": {
      "provenance": []
    },
    "kernelspec": {
      "name": "python3",
      "display_name": "Python 3"
    },
    "language_info": {
      "name": "python"
    }
  },
  "cells": [
    {
      "cell_type": "code",
      "execution_count": null,
      "metadata": {
        "id": "ZVCMtkEXSDTe"
      },
      "outputs": [],
      "source": []
    },
    {
      "cell_type": "markdown",
      "source": [
        "# Python Basics Question\n",
        "1. What is Python, and why is it popular?\n",
        "   - Python is a high-level, interpreted programming language known for its simplicity, readability, and versatility. It was created by Guido van Rossum and first released in 1991 and has become one of the most widely used programming languages globally.\n",
        "   - It is popular because :\n",
        "   *1. Ease of Learning and Use.\n",
        "   *2. Versatility.\n",
        "   *3. Cross-Platform Compatibility.\n",
        "   *4. Active Community and Support.\n",
        "   *5. Strong Industry Adoption.\n",
        "   *6. Productivity and Speed.\n",
        "   *7. Strong Demand in the Job Market.\n",
        "   *8. Extensive Libraries and Frameworks.\n",
        "   *9. It is suitable for beginners and professionals.\n",
        "   *10. Open-source.\n",
        "2. What is an interpreter in Python?\n",
        "    - A python interpreter is a computer program that converts each high-level program statement into machine code. An interpreter translates the command that you write out into code that the computer can understand.The interpreter reads and executes Python code line by line, translating it into machine-readable bytecode. This process happens in real time, so you can see the results of your code immediately.The Python interpreter is a virtual machine, which means it's software that emulates a physical computer. It's a stack machine, which means it performs operations by manipulating several stacks.\n",
        "3. What are pre-defined keywords in Python?\n",
        "   - Pre-defined keywords in Python are reserved words that have specific meanings and are part of the language's syntax. These words are used to perform specific functions or operations, and you cannot use them as names for variables, functions, or other identifiers, all the keywords in Python are written in lowercase except True False and none start with uppercase letters.To see the complete list of keywords in Python, you can use this code import keyword print(keyword.kwlist) Running this code will display the list of reserved keywords in Python like\n",
        "   \n",
        "      ['False', 'None', 'True', 'and', 'as', 'assert', 'async', 'await', 'break', 'class', 'continue', 'def', 'del', 'elif', 'else', 'except', 'finally', 'for', 'from', 'global', 'if', 'import', 'in', 'is', 'lambda', 'nonlocal','not', 'or', 'pass', 'raise', 'return', 'try', 'while', 'with', 'yield']\n",
        "4. Can keywords be used as variable names?\n",
        "    - No, keywords cannot be used as variable names in Python. Keywords are reserved words that have special meanings in the language and are used to define the syntax and structure of the code.\n",
        "    For example, words like if, else, for, while, def, class, import, etc. are keywords and cannot be used as variable names.\n",
        "    If you try to use a keyword as a variable name, you will get a syntax error.\n",
        "5. What is mutability in Python?\n",
        "   - In Python, mutability refers to whether an object can be modified after it is created. Objects in Python fall into two categories based on their mutability.\n",
        "  *1. Mutable Objects\n",
        "   - Mutable objects can be modified after they are created. For instance, you can change their contents, such as adding, removing, or updating elements.   \n",
        "   -1. Lists: You can modify, add, or remove elements.\n",
        "   - my_list = [1, 2, 3]\n",
        "     my_list[0] = 10  # Modifies the first element\n",
        "     my_list.append(4)  # Adds a new element\n",
        "   -2. Dictionaries: You can add, update, or remove key-value pairs.\n",
        "   - my_dict = {\"a\": 1, \"b\": 2}\n",
        "     my_dict[\"a\"] = 10  # Updates the value of key \"a\"\n",
        "     my_dict[\"c\"] = 3  # Adds a new key-value pair\n",
        "   -3. Sets: You can add or remove elements.\n",
        "   - my_set = {1, 2, 3}\n",
        "     my_set.add(4)  # Adds an element\n",
        "     my_set.remove(2)  # Removes an element\n",
        "6.  Why are lists mutable, but tuples are immutable?\n",
        "    - In Python, lists are considered mutable because you can change their elements after they are created, while tuples are immutable, meaning once created, you cannot modify their contents, this design choice allows tuples to be used as a reliable way to store data that should not be altered, while lists are more flexible for situations where data needs to be dynamically changed.\n",
        "7. What is the difference between “==” and “is” operators in Python?\n",
        "   - In Python, the == and is operators are used for comparisons, but they have different purposes:\n",
        "  *1. == (Equality Operator):\n",
        "   - Compares the values of two objects.\n",
        "   - Returns True if the values are equal, False otherwise.\n",
        "   - Example :-\n",
        "   -   x = [1, 2, 3]\n",
        "       y = [1, 2, 3]\n",
        "      print(x == y)  # True, because the lists have the same values.\n",
        "  *2. “is” (Identity Operator):\n",
        "  - Compares the memory addresses of two objects.\n",
        "  - Returns True if both variables refer to the exact same object in memory, False otherwise.\n",
        "  - Example:-\n",
        "  -  x = [1, 2, 3]\n",
        "     y = x\n",
        "     print(x is y)  # True, because x and y refer to the same list object.\n",
        "  - Key Differences:\n",
        "  - Use Case:\n",
        "  - Use == to check if two objects have the same value, and use is to check if two variables refer to the exact same object.\n",
        "  - Performance:\n",
        "  - is is generally faster than == because it only compares memory addresses, while == might need to perform a deeper comparison of the object's contents.\n",
        "  - Common Use Cases for is:\n",
        "  - Checking if a variable is None: x is None.\n",
        "  - Checking for specific singleton objects like True, False.\n",
        "  *1. == checks for equality in value.\n",
        "  *2. is checks for identity (same object in memory).\n",
        "8. What are logical operators in Python?\n",
        "   - Logical operators in Python are used to combine conditional statements and produce a boolean result (True or False). There are three main logical operators.\n",
        "   - and: Returns True if both operands are True.\n",
        "   - or: Returns True if at least one operand is True.\n",
        "   - not: Reverses the result of the operand. If the operand is True, not returns False, and vice versa.\n",
        "   - Example:-\n",
        "   - x = 5\n",
        "     y = 10\n",
        "     print(x < 10 and y > 5)  # True, because both conditions are True.\n",
        "     print(x < 10 or y < 5)  # True, because the first condition is True.\n",
        "     print(not x < 10)  # False, because x < 10 is True, and not reverses it.\n",
        "9. What is type casting in Pytho?\n",
        "   - Type casting in Python refers to the process of converting one data type into another. It allows you to explicitly change the type of a variable to match your program's requirements. Python provides several built-in functions for type casting.\n",
        "   - Types of Type Casting:\n",
        "   *1. Implicit Type Casting:-\n",
        "   - Python automatically converts a smaller data type into a larger data type when required, without any explicit instruction from the programmer.\n",
        "   - This is done to avoid data loss or errors during operations.\n",
        "   *2. Explicit Type Casting:\n",
        "   - The programmer explicitly converts one data type into another using type casting functions.\n",
        "   - Common Functions for Type Casting:-\n",
        "   -int() - Converts to an integer.\n",
        "     float() - Converts to a floating-point number.\n",
        "     str() - Converts to a string.\n",
        "     bool() - Converts to a boolean.\n",
        "     list() - Converts to a list.\n",
        "     tuple() - Converts to a tuple.\n",
        "     set() - Converts to a set.\n",
        "10. What is the difference between implicit and explicit type castin?\n",
        "    - The difference between implicit and explicit type casting lies in how the type conversion happens and whether the programmer needs to intervene in the process.\n",
        "  *1. Implicit Type Casting:-\n",
        "  - Definition:\n",
        "  -The conversion of one data type to another is performed automatically by Python without requiring explicit instructions from the programmer.\n",
        "  * Purpose:-\n",
        "  -Ensures compatibility between data types during operations, typically converting smaller or simpler types to larger or more complex ones to avoid data loss.\n",
        "  * Key Characteristics:-\n",
        "  - Done automatically by Python.\n",
        "  - No loss of information or data.\n",
        "  - Typically occurs in arithmetic operations involving mixed types.   \n",
        "  *2. Explicit Type Casting:-\n",
        "  - Definition: The conversion of one data type to another is performed manually by the programmer using Python's built-in type conversion functions.\n",
        "  - Purpose: Gives the programmer control over how data types should be converted.\n",
        "  - Key Characteristics:-\n",
        "  - Requires the use of specific functions (int(), float(), str(), etc.).\n",
        "  - May result in loss of data or precision if not done carefully.\n",
        "  - Useful when working with incompatible data types or when the programmer knows better than the automatic system.\n",
        "  *3. When to Use Each:-\n",
        "  *1. Implicit Type Casting:-\n",
        "  - Happens naturally during operations involving compatible data types.\n",
        "  - You don't need to do anything special.\n",
        "  - Example: Mixing integers and floats in arithmetic operations.  \n",
        "  *2. Explicit Type Casting:-\n",
        "  - Necessary when dealing with incompatible types (e.g., string to integer).\n",
        "  - Useful for user inputs, parsing data, or preparing values for specific operations.\n",
        "  - Example: Converting a string from user input to an integer for mathematical calculations.\n",
        "11. What is the purpose of conditional statements in Python?\n",
        "    - Conditional statements in Python allow you to control the flow of your program based on certain conditions. They help you make decisions in your code by executing different blocks of code depending on whether a condition is true or false.\n",
        "    - if statement:-\n",
        "    - The most basic conditional statement. It executes a block of code only if the specified condition is true.\n",
        "    - else statement:-\n",
        "    - Used in conjunction with an if statement. It executes a block of code if the if condition is false.\n",
        "    - elif statement:-\n",
        "    - Short for \"else if\". It allows you to check multiple conditions in sequence. If the first if condition is false, it checks the next elif condition, and so on.\n",
        "    - Example:-\n",
        "     x = 10\n",
        "     if x > 5:\n",
        "     print(\"x is greater than 5\")\n",
        "     elif x == 5:\n",
        "     print(\"x is equal to 5\")\n",
        "     else:\n",
        "     print(\"x is less than 5\")\n",
        "    - Execution output:-\n",
        "    - x is greater than 5\n",
        "12. How does the elif statement work?\n",
        "    - The elif (short for else if) statement in Python is used in conditional statements to check multiple conditions sequentially. It provides a way to evaluate several conditions, one after another, and execute a specific block of code as soon as the first condition evaluates to True.\n",
        "    - How elif Works:-\n",
        "\n",
        "  1. The program starts by evaluating the condition in the if statement.\n",
        "\n",
        "  2. If the if condition is True, the corresponding block of code is executed, and all other conditions (including elif and else) are skipped.\n",
        "\n",
        "   3. If the if condition is False, the program evaluates the first elif condition.\n",
        "\n",
        "   4. If the elif condition is True, its block of code is executed, and the program skips the rest of the conditions.\n",
        "\n",
        "   5. This process continues for all elif statements.\n",
        "\n",
        "   6. If none of the if or elif conditions are True, the code in the else block (if present) is executed.\n",
        "\n",
        "    - Key points about elif:-\n",
        "    - Syntax:-\n",
        "    - \"if condition1: # code block\" followed by \"elif condition2: # code block\" and so on.\n",
        "    - Functionality:-\n",
        "    - If the first \"if\" condition is false, the program checks the next \"elif\" condition, and continues checking each \"elif\" until it finds a true condition.\n",
        "    - Order matters:-\n",
        "    - The order of \"elif\" statements is important as they are evaluated sequentially.\n",
        "    - Example:-\n",
        "    - age = 25\n",
        "       if age < 18:\n",
        "       print(\"You are a minor\")\n",
        "\n",
        "       elif age < 65:\n",
        "       print(\"You are an adult\")\n",
        "\n",
        "       else:\n",
        "       print(\"You are a senior citizen\")\n",
        "\n",
        "    - If age is less than 18, \"You are a minor\" will be printed.\n",
        "   - If age is not less than 18 but is less than 65, \"You are an adult\" will be printed.\n",
        "    - If age is not less than 65, \"You are a senior citizen\" will be printed.\n",
        "13. What is the difference between for and while loops?\n",
        "    - For loop is used to iterate over a sequence of items. While loop is used to repeatedly execute a block of statements while a condition is true. You can use while loops to run the same task multiple times and for loops to loop once over list data.  \n",
        "    # For Loop:-\n",
        "    - Purpose: Iterates over a sequence (e.g., list, tuple, string, dictionary) or any iterable object.\n",
        "    - When to use: When you know in advance how many times you need to loop.\n",
        "    - Syntax:-\n",
        "    - for item in sequence:\n",
        "     # code to execute for each item.\n",
        "    - Example:-\n",
        "    - numbers = [1, 2, 3, 4, 5]\n",
        "       for number in numbers:\n",
        "        print(number)\n",
        "    - Execution output:-\n",
        "                1\n",
        "                2\n",
        "                3\n",
        "                4  \n",
        "     # While Loop:\n",
        "    - Purpose: Repeats a block of code as long as a specified condition is true.\n",
        "    - When to use: When you don't know in advance how many times you need to loop, or when you want to loop until a specific condition is met.\n",
        "    - Syntax:\n",
        "    - while condition:\n",
        "     # code to execute as long as the condition is true\n",
        "     # Example:-\n",
        "   - count = 0\n",
        "       while count < 5:\n",
        "       print(count)\n",
        "       count += 1\n",
        "   - Execution output\n",
        "   - 0\n",
        "       1\n",
        "       2\n",
        "       3\n",
        "       4\n",
        "     # Key Differences:\n",
        "     - Iteration:for loops iterate over a sequence, while while loops iterate as long as a condition is true.\n",
        "     - Number of Iterations:for loops have a predetermined number of iterations, while while loops can have an unknown number of iterations.\n",
        "     - Control:for loops automatically handle the iteration, while while loops require you to manage the loop variable and exit condition.\n",
        "     # Choosing the Right Loop:\n",
        "     - Use a for loop when you need to iterate over a known sequence of elements.\n",
        "     - Use a while loop when you need to repeat a block of code until a specific condition is met.\n",
        "14.  Describe a scenario where a while loop is more suitable than a for loop?\n",
        "     - A while loop is more suitable than a for loop when you don't know in advance how many times the loop needs to run and instead want the loop to continue iterating until a specific condition is met, which may change dynamically during the loop's execution.\n",
        "     # Example scenario:\n",
        "     - User input validation: You want to repeatedly prompt a user for input until they provide a valid value. Since you don't know how many times they might enter invalid data, a while loop is ideal to keep asking for input until the condition of \"valid input\" is met.\n",
        "     # Key points about using a while loop:\n",
        "     - Dynamic condition:The loop condition in a while loop is checked at the beginning of each iteration, allowing the loop to potentially exit early if the condition becomes false.\n",
        "     - Flexibility:While loops are good for scenarios where the number of iterations might vary based on user actions or changing data conditions.\n",
        "     # When to use a for loop:\n",
        "     - Known iterations: If you know exactly how many times you want the loop to run (like iterating through a list of items with a fixed length), a for loop is more structured and readable.\n",
        "          \n",
        "\n",
        "\n",
        "\n",
        "\n",
        "\n",
        "\n",
        "\n",
        "\n",
        "\n",
        "\n",
        "\n",
        "\n",
        "\n",
        "\n",
        "\n",
        "      \n",
        "\n",
        "\n",
        "\n",
        "  \n",
        "  \n",
        "\n",
        "\n",
        "  \n",
        "  \n",
        "\n",
        "\n"
      ],
      "metadata": {
        "id": "kgCqsnDCUHun"
      }
    },
    {
      "cell_type": "code",
      "source": [
        "# Practical Questions\n",
        "# 1. Write a Python program to print \"Hello, World!_\n",
        "print(\"Hello, World!\")"
      ],
      "metadata": {
        "colab": {
          "base_uri": "https://localhost:8080/"
        },
        "id": "QyipiN9-gwGK",
        "outputId": "fe84c86a-0b9e-45eb-88e7-c789a9b8133e"
      },
      "execution_count": null,
      "outputs": [
        {
          "output_type": "stream",
          "name": "stdout",
          "text": [
            "Hello, World!\n"
          ]
        }
      ]
    },
    {
      "cell_type": "code",
      "source": [
        "# 2.  Write a Python program that displays your name and age.\n",
        "name = input(\"Enter your name: \")\n",
        "age = int(input(\"Enter your age: \"))\n",
        "\n",
        "print(\"Your name is:\", name)\n",
        "print(\"Your age is:\", age)"
      ],
      "metadata": {
        "colab": {
          "base_uri": "https://localhost:8080/"
        },
        "id": "L4zjmLXLh4xM",
        "outputId": "a12d34c4-dc61-495e-fb11-3c6a8018117b"
      },
      "execution_count": null,
      "outputs": [
        {
          "output_type": "stream",
          "name": "stdout",
          "text": [
            "Enter your name: Sachin sinha\n",
            "Enter your age: 25\n",
            "Your name is: Sachin sinha\n",
            "Your age is: 25\n"
          ]
        }
      ]
    },
    {
      "cell_type": "code",
      "source": [
        "# 3. Write code to print all the pre-defined keywords in Python using the keyword library.\n",
        "import keyword\n",
        "\n",
        "print(keyword.kwlist)"
      ],
      "metadata": {
        "colab": {
          "base_uri": "https://localhost:8080/"
        },
        "id": "X2SDVun8jLPE",
        "outputId": "d993053c-2b75-4bb4-de2f-12ede6dd92b7"
      },
      "execution_count": null,
      "outputs": [
        {
          "output_type": "stream",
          "name": "stdout",
          "text": [
            "['False', 'None', 'True', 'and', 'as', 'assert', 'async', 'await', 'break', 'class', 'continue', 'def', 'del', 'elif', 'else', 'except', 'finally', 'for', 'from', 'global', 'if', 'import', 'in', 'is', 'lambda', 'nonlocal', 'not', 'or', 'pass', 'raise', 'return', 'try', 'while', 'with', 'yield']\n"
          ]
        }
      ]
    },
    {
      "cell_type": "code",
      "source": [
        "# 4. Write a program that checks if a given word is a Python keyword.\n",
        "import keyword\n",
        "\n",
        "def is_keyword(word):\n",
        "  return keyword.iskeyword(word)\n",
        "\n",
        "word = input(\"Enter a word: \")\n",
        "\n",
        "if is_keyword(word):\n",
        "  print(f\"{word} is a Python keyword.\")\n",
        "else:\n",
        "  print(f\"{word} is not a Python keyword.\")\n"
      ],
      "metadata": {
        "id": "NSEZMmQjjc7V",
        "colab": {
          "base_uri": "https://localhost:8080/"
        },
        "outputId": "df1e52dd-952d-481e-ad4c-6796f2eefa58"
      },
      "execution_count": null,
      "outputs": [
        {
          "output_type": "stream",
          "name": "stdout",
          "text": [
            "Enter a word: def\n",
            "def is a Python keyword.\n"
          ]
        }
      ]
    },
    {
      "cell_type": "code",
      "source": [
        "# 5. Create a list and tuple in Python, and demonstrate how attempting to change an element works differently for each.\n",
        "# Creating a list\n",
        "my_list = [30, 40, 50]\n",
        "\n",
        "# Creating a tuple\n",
        "my_tuple = (60, 70, 80)\n",
        "\n",
        "# Trying to change an element in the list\n",
        "print(\"Original list:\", my_list)\n",
        "my_list[1] = 45  # This works, as lists are mutable\n",
        "print(\"Updated list:\", my_list)\n",
        "\n",
        "# Trying to change an element in the tuple (will raise an error)\n",
        "print(\"Original tuple:\", my_tuple)\n",
        "try:\n",
        "    my_tuple[1] = 75  # This will raise a TypeError because tuples are immutable\n",
        "except TypeError as e:\n",
        "    print(\"Error:\", e)"
      ],
      "metadata": {
        "colab": {
          "base_uri": "https://localhost:8080/"
        },
        "id": "CniphPfu_6Kx",
        "outputId": "4b84b559-8fb1-4c19-b499-b6b67a3b4010"
      },
      "execution_count": null,
      "outputs": [
        {
          "output_type": "stream",
          "name": "stdout",
          "text": [
            "Original list: [30, 40, 50]\n",
            "Updated list: [30, 45, 50]\n",
            "Original tuple: (60, 70, 80)\n",
            "Error: 'tuple' object does not support item assignment\n"
          ]
        }
      ]
    },
    {
      "cell_type": "code",
      "source": [
        "# 6. Write a function to demonstrate the behavior of mutable and immutable arguments.\n",
        "def modify_arguments(immutable_arg, mutable_arg):\n",
        "    immutable_arg += 1\n",
        "    mutable_arg.append(4)\n",
        "\n",
        "    print(\"Inside function:\")\n",
        "    print(\"Immutable argument:\", immutable_arg)\n",
        "    print(\"Mutable argument:\", mutable_arg)\n",
        "\n",
        "num = 5\n",
        "my_list = [1, 2, 3]\n",
        "\n",
        "print(\"Before function call:\")\n",
        "print(\"Immutable argument:\", num)\n",
        "print(\"Mutable argument:\", my_list)\n",
        "\n",
        "modify_arguments(num, my_list)\n",
        "\n",
        "print(\"After function call:\")\n",
        "print(\"Immutable argument:\", num)\n",
        "print(\"Mutable argument:\", my_list)"
      ],
      "metadata": {
        "colab": {
          "base_uri": "https://localhost:8080/"
        },
        "id": "r79l22IrBl0n",
        "outputId": "812cc9ba-34c7-47a3-f34b-0213e7b667ba"
      },
      "execution_count": null,
      "outputs": [
        {
          "output_type": "stream",
          "name": "stdout",
          "text": [
            "Before function call:\n",
            "Immutable argument: 5\n",
            "Mutable argument: [1, 2, 3]\n",
            "Inside function:\n",
            "Immutable argument: 6\n",
            "Mutable argument: [1, 2, 3, 4]\n",
            "After function call:\n",
            "Immutable argument: 5\n",
            "Mutable argument: [1, 2, 3, 4]\n"
          ]
        }
      ]
    },
    {
      "cell_type": "code",
      "source": [
        "# 7. Write a function to demonstrate the behavior of mutable and immutable arguments.\n",
        "def modify_arguments(immutable_arg, mutable_arg):\n",
        "    immutable_arg += 5\n",
        "    mutable_arg.append(8)\n",
        "\n",
        "    print(\"Inside function:\")\n",
        "    print(\"Immutable argument:\", immutable_arg)\n",
        "    print(\"Mutable argument:\", mutable_arg)\n",
        "\n",
        "num = 10\n",
        "my_list = [5, 6, 7]\n",
        "\n",
        "print(\"Before function call:\")\n",
        "print(\"Immutable argument:\", num)\n",
        "print(\"Mutable argument:\", my_list)\n",
        "\n",
        "modify_arguments(num, my_list)\n",
        "\n",
        "print(\"After function call:\")\n",
        "print(\"Immutable argument:\", num)\n",
        "print(\"Mutable argument:\", my_list)"
      ],
      "metadata": {
        "colab": {
          "base_uri": "https://localhost:8080/"
        },
        "id": "UxFU8M7rE2ve",
        "outputId": "4162d177-9c62-4934-8d96-0058693c25fc"
      },
      "execution_count": null,
      "outputs": [
        {
          "output_type": "stream",
          "name": "stdout",
          "text": [
            "Before function call:\n",
            "Immutable argument: 10\n",
            "Mutable argument: [5, 6, 7]\n",
            "Inside function:\n",
            "Immutable argument: 15\n",
            "Mutable argument: [5, 6, 7, 8]\n",
            "After function call:\n",
            "Immutable argument: 10\n",
            "Mutable argument: [5, 6, 7, 8]\n"
          ]
        }
      ]
    },
    {
      "cell_type": "code",
      "source": [
        "# 8. Write a program to demonstrate the use of logical operators.\n",
        "# Logical AND (&&) - Both conditions must be true\n",
        "x = 5\n",
        "y = 10\n",
        "if x > 0 and y < 15:\n",
        "    print(\"Both conditions are true\")\n",
        "\n",
        "# Logical OR (||) - At least one condition must be true\n",
        "a = 10\n",
        "b = 20\n",
        "if a > 15 or b < 25:\n",
        "    print(\"At least one condition is true\")\n",
        "\n",
        "# Logical NOT (!) - Inverts the result of the condition\n",
        "c = True\n",
        "if not c:\n",
        "    print(\"c is false\")\n",
        "else:\n",
        "    print(\"c is true\")"
      ],
      "metadata": {
        "colab": {
          "base_uri": "https://localhost:8080/"
        },
        "id": "fsH1OBXOKoaR",
        "outputId": "ec056aef-3142-4d1e-a08e-ecc435046e13"
      },
      "execution_count": null,
      "outputs": [
        {
          "output_type": "stream",
          "name": "stdout",
          "text": [
            "Both conditions are true\n",
            "At least one condition is true\n",
            "c is true\n"
          ]
        }
      ]
    },
    {
      "cell_type": "code",
      "source": [
        "# 9. Write a Python program to convert user input from string to integer, float, and boolean types.\n",
        "#converting sting to integer type\n",
        "a = input(\"Enter a string:\")\n",
        "int_val= int(a)\n",
        "print(int_val)\n",
        "print(type(int_val))\n",
        "\n",
        "\n",
        "print(\" \")\n",
        "#converting string to boolean type\n",
        "c = input(\"Enter a string:\")\n",
        "bool_val= bool(c)\n",
        "print(bool_val)\n",
        "print(type(bool_val))\n",
        "\n",
        "\n",
        "print(\" \")\n",
        "#converting string to float type\n",
        "b = input('Enter a string:')\n",
        "d = [float(b)]\n",
        "print(type(d))\n",
        "print('Float Value =', d)"
      ],
      "metadata": {
        "colab": {
          "base_uri": "https://localhost:8080/"
        },
        "id": "l6pzlcBGLtxp",
        "outputId": "d828e1c5-ebb1-4f51-dd89-32f16d75f79d"
      },
      "execution_count": 19,
      "outputs": [
        {
          "output_type": "stream",
          "name": "stdout",
          "text": [
            "Enter a string:10\n",
            "10\n",
            "<class 'int'>\n",
            " \n",
            "Enter a string:10\n",
            "True\n",
            "<class 'bool'>\n",
            " \n",
            "Enter a string:369\n",
            "<class 'list'>\n",
            "Float Value = [369.0]\n"
          ]
        }
      ]
    },
    {
      "cell_type": "code",
      "source": [
        "# 10. Write code to demonstrate type casting with list elements.\n",
        "# Creating a list with elements of different types\n",
        "my_list = [5, 6.5, \"8\", True]\n",
        "\n",
        "# Casting each element to a specific type\n",
        "int_list = [int(x) for x in my_list]\n",
        "float_list = [float(x) for x in my_list]\n",
        "str_list = [str(x) for x in my_list]\n",
        "\n",
        "# Printing the resulting lists\n",
        "print(\"Original list:\", my_list)\n",
        "print(\"Integer list:\", int_list)\n",
        "print(\"Float list:\", float_list)\n",
        "print(\"String list:\", str_list)"
      ],
      "metadata": {
        "colab": {
          "base_uri": "https://localhost:8080/"
        },
        "id": "KdCkiCNeXTZs",
        "outputId": "35ee5c0f-d70f-471a-ea52-d13b04057d2d"
      },
      "execution_count": null,
      "outputs": [
        {
          "output_type": "stream",
          "name": "stdout",
          "text": [
            "Original list: [5, 6.5, '8', True]\n",
            "Integer list: [5, 6, 8, 1]\n",
            "Float list: [5.0, 6.5, 8.0, 1.0]\n",
            "String list: ['5', '6.5', '8', 'True']\n"
          ]
        }
      ]
    },
    {
      "cell_type": "code",
      "source": [
        "# 11. Write a program that checks if a number is positive, negative, or zero.\n",
        "num = float(input(\"Enter a number: \"))\n",
        "if num > 0:\n",
        "   print(\"Positive number\")\n",
        "elif num == 0:\n",
        "   print(\"Zero\")\n",
        "else:\n",
        "   print(\"Negative number\")\n"
      ],
      "metadata": {
        "colab": {
          "base_uri": "https://localhost:8080/"
        },
        "id": "OEyVnnmtYB6k",
        "outputId": "a4b33776-ac52-40b8-b16b-11bcabf0619a"
      },
      "execution_count": null,
      "outputs": [
        {
          "output_type": "stream",
          "name": "stdout",
          "text": [
            "Enter a number: 5\n",
            "Positive number\n"
          ]
        }
      ]
    },
    {
      "cell_type": "code",
      "source": [
        "# 12. Write a for loop to print numbers from 1 to 100.\n",
        "# For loop to print numbers from 1 to 100\n",
        "for i in range(1, 101):\n",
        "    print(i)"
      ],
      "metadata": {
        "colab": {
          "base_uri": "https://localhost:8080/"
        },
        "id": "ryEm1QfAq3qd",
        "outputId": "cbfeb1cf-a865-40b2-8c83-535c76486446"
      },
      "execution_count": 20,
      "outputs": [
        {
          "output_type": "stream",
          "name": "stdout",
          "text": [
            "1\n",
            "2\n",
            "3\n",
            "4\n",
            "5\n",
            "6\n",
            "7\n",
            "8\n",
            "9\n",
            "10\n",
            "11\n",
            "12\n",
            "13\n",
            "14\n",
            "15\n",
            "16\n",
            "17\n",
            "18\n",
            "19\n",
            "20\n",
            "21\n",
            "22\n",
            "23\n",
            "24\n",
            "25\n",
            "26\n",
            "27\n",
            "28\n",
            "29\n",
            "30\n",
            "31\n",
            "32\n",
            "33\n",
            "34\n",
            "35\n",
            "36\n",
            "37\n",
            "38\n",
            "39\n",
            "40\n",
            "41\n",
            "42\n",
            "43\n",
            "44\n",
            "45\n",
            "46\n",
            "47\n",
            "48\n",
            "49\n",
            "50\n",
            "51\n",
            "52\n",
            "53\n",
            "54\n",
            "55\n",
            "56\n",
            "57\n",
            "58\n",
            "59\n",
            "60\n",
            "61\n",
            "62\n",
            "63\n",
            "64\n",
            "65\n",
            "66\n",
            "67\n",
            "68\n",
            "69\n",
            "70\n",
            "71\n",
            "72\n",
            "73\n",
            "74\n",
            "75\n",
            "76\n",
            "77\n",
            "78\n",
            "79\n",
            "80\n",
            "81\n",
            "82\n",
            "83\n",
            "84\n",
            "85\n",
            "86\n",
            "87\n",
            "88\n",
            "89\n",
            "90\n",
            "91\n",
            "92\n",
            "93\n",
            "94\n",
            "95\n",
            "96\n",
            "97\n",
            "98\n",
            "99\n",
            "100\n"
          ]
        }
      ]
    },
    {
      "cell_type": "code",
      "source": [
        "# 13. Write a Python program to find the sum of all even numbers between 1 and 50.\n",
        "# Program to find the sum of all even numbers between 1 and 50\n",
        "sum_even_numbers = 0\n",
        "\n",
        "# Loop through numbers from 1 to 50\n",
        "for num in range(1, 51):\n",
        "    if num % 2 == 0:  # Check if the number is even\n",
        "        sum_even_numbers += num\n",
        "\n",
        "# Print the result\n",
        "print(\"Sum of all even numbers between 1 and 50:\", sum_even_numbers)"
      ],
      "metadata": {
        "colab": {
          "base_uri": "https://localhost:8080/"
        },
        "id": "KbYgXcGTwNXM",
        "outputId": "d534afe9-443d-48bf-ab65-f5703c77cffd"
      },
      "execution_count": 21,
      "outputs": [
        {
          "output_type": "stream",
          "name": "stdout",
          "text": [
            "Sum of all even numbers between 1 and 50: 650\n"
          ]
        }
      ]
    },
    {
      "cell_type": "code",
      "source": [
        "# 14. Write a program to reverse a string using a while loop.\n",
        "# Program to reverse a string using a while loop\n",
        "\n",
        "# Input string\n",
        "user_input = input(\"Enter a string: \")\n",
        "\n",
        "# Initialize an empty string to store the reversed string\n",
        "reversed_string = \"\"\n",
        "\n",
        "# Initialize a variable to track the index of the last character\n",
        "index = len(user_input) - 1\n",
        "\n",
        "# Use a while loop to reverse the string\n",
        "while index >= 0:\n",
        "    reversed_string += user_input[index]  # Add the character to the reversed string\n",
        "    index -= 1  # Move to the previous character\n",
        "\n",
        "# Output the reversed string\n",
        "print(\"Reversed string:\", reversed_string)\n"
      ],
      "metadata": {
        "colab": {
          "base_uri": "https://localhost:8080/"
        },
        "id": "lBrn4ou3yB5o",
        "outputId": "5db74eb2-59a2-4818-a8af-de44b2c91252"
      },
      "execution_count": 23,
      "outputs": [
        {
          "output_type": "stream",
          "name": "stdout",
          "text": [
            "Enter a string: Sachin sinha\n",
            "Reversed string: ahnis nihcaS\n"
          ]
        }
      ]
    },
    {
      "cell_type": "code",
      "source": [
        "# 15. Write a Python program to calculate the factorial of a number provided by the user using a while loop.\n",
        "# Program to calculate the factorial of a number using a while loop\n",
        "\n",
        "# Get input from the user\n",
        "number = int(input(\"Enter a number: \"))\n",
        "\n",
        "# Initialize the factorial result as 1\n",
        "factorial = 1\n",
        "\n",
        "# Check if the number is negative, zero, or positive\n",
        "if number < 0:\n",
        "    print(\"Factorial does not exist for negative numbers.\")\n",
        "elif number == 0:\n",
        "    print(\"Factorial of 0 is 1.\")\n",
        "else:\n",
        "    # Calculate the factorial using a while loop\n",
        "    while number > 1:\n",
        "        factorial *= number  # Multiply the current factorial by the number\n",
        "        number -= 1  # Decrement the number\n",
        "    print(f\"The factorial is: {factorial}\")\n"
      ],
      "metadata": {
        "colab": {
          "base_uri": "https://localhost:8080/"
        },
        "id": "tCLaOeHNz_ai",
        "outputId": "d5a3b1af-ce0b-42cd-b139-6d5f4b9eb35a"
      },
      "execution_count": 29,
      "outputs": [
        {
          "output_type": "stream",
          "name": "stdout",
          "text": [
            "Enter a number: 9\n",
            "The factorial is: 362880\n"
          ]
        }
      ]
    },
    {
      "cell_type": "code",
      "source": [],
      "metadata": {
        "id": "g6NU7-yO0W1w"
      },
      "execution_count": null,
      "outputs": []
    }
  ]
}